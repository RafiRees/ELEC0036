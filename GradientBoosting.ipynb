{
 "cells": [
  {
   "cell_type": "code",
   "execution_count": 215,
   "metadata": {},
   "outputs": [],
   "source": [
    "import pandas as pd\n",
    "import numpy as np\n",
    "import datetime as dt\n",
    "import matplotlib.pyplot as plt\n",
    "import matplotlib\n",
    "from matplotlib import figure\n",
    "from pathlib import Path\n",
    "import scipy\n",
    "from sklearn.metrics import r2_score, mean_squared_error, mean_absolute_error, explained_variance_score\n",
    "from sklearn.ensemble import GradientBoostingRegressor "
   ]
  },
  {
   "cell_type": "code",
   "execution_count": 216,
   "metadata": {},
   "outputs": [
    {
     "data": {
      "text/html": [
       "<div>\n",
       "<style scoped>\n",
       "    .dataframe tbody tr th:only-of-type {\n",
       "        vertical-align: middle;\n",
       "    }\n",
       "\n",
       "    .dataframe tbody tr th {\n",
       "        vertical-align: top;\n",
       "    }\n",
       "\n",
       "    .dataframe thead th {\n",
       "        text-align: right;\n",
       "    }\n",
       "</style>\n",
       "<table border=\"1\" class=\"dataframe\">\n",
       "  <thead>\n",
       "    <tr style=\"text-align: right;\">\n",
       "      <th></th>\n",
       "      <th>Date</th>\n",
       "      <th>Carbon Price</th>\n",
       "      <th>Coal Price</th>\n",
       "      <th>Oil Price</th>\n",
       "      <th>NatGas Price</th>\n",
       "      <th>Weighted Temp</th>\n",
       "      <th>Cold Temp</th>\n",
       "      <th>Hot Temp</th>\n",
       "      <th>Phase two</th>\n",
       "      <th>Phase three</th>\n",
       "    </tr>\n",
       "  </thead>\n",
       "  <tbody>\n",
       "    <tr>\n",
       "      <th>0</th>\n",
       "      <td>2012-11-09</td>\n",
       "      <td>8.20</td>\n",
       "      <td>87.95</td>\n",
       "      <td>108.61</td>\n",
       "      <td>27.20</td>\n",
       "      <td>39.424568</td>\n",
       "      <td>0.0</td>\n",
       "      <td>0.0</td>\n",
       "      <td>0</td>\n",
       "      <td>0</td>\n",
       "    </tr>\n",
       "    <tr>\n",
       "      <th>1</th>\n",
       "      <td>2012-11-13</td>\n",
       "      <td>8.49</td>\n",
       "      <td>88.40</td>\n",
       "      <td>108.82</td>\n",
       "      <td>27.32</td>\n",
       "      <td>40.082543</td>\n",
       "      <td>0.0</td>\n",
       "      <td>0.0</td>\n",
       "      <td>0</td>\n",
       "      <td>0</td>\n",
       "    </tr>\n",
       "    <tr>\n",
       "      <th>2</th>\n",
       "      <td>2012-11-16</td>\n",
       "      <td>6.75</td>\n",
       "      <td>89.55</td>\n",
       "      <td>106.81</td>\n",
       "      <td>27.60</td>\n",
       "      <td>38.062586</td>\n",
       "      <td>0.0</td>\n",
       "      <td>0.0</td>\n",
       "      <td>0</td>\n",
       "      <td>0</td>\n",
       "    </tr>\n",
       "    <tr>\n",
       "      <th>3</th>\n",
       "      <td>2012-11-20</td>\n",
       "      <td>6.47</td>\n",
       "      <td>89.15</td>\n",
       "      <td>110.01</td>\n",
       "      <td>27.53</td>\n",
       "      <td>40.055418</td>\n",
       "      <td>0.0</td>\n",
       "      <td>0.0</td>\n",
       "      <td>0</td>\n",
       "      <td>0</td>\n",
       "    </tr>\n",
       "    <tr>\n",
       "      <th>4</th>\n",
       "      <td>2012-11-23</td>\n",
       "      <td>6.75</td>\n",
       "      <td>89.35</td>\n",
       "      <td>110.14</td>\n",
       "      <td>27.80</td>\n",
       "      <td>39.543410</td>\n",
       "      <td>0.0</td>\n",
       "      <td>0.0</td>\n",
       "      <td>0</td>\n",
       "      <td>0</td>\n",
       "    </tr>\n",
       "  </tbody>\n",
       "</table>\n",
       "</div>"
      ],
      "text/plain": [
       "         Date  Carbon Price  Coal Price  Oil Price  NatGas Price  \\\n",
       "0  2012-11-09          8.20       87.95     108.61         27.20   \n",
       "1  2012-11-13          8.49       88.40     108.82         27.32   \n",
       "2  2012-11-16          6.75       89.55     106.81         27.60   \n",
       "3  2012-11-20          6.47       89.15     110.01         27.53   \n",
       "4  2012-11-23          6.75       89.35     110.14         27.80   \n",
       "\n",
       "   Weighted Temp  Cold Temp  Hot Temp  Phase two  Phase three  \n",
       "0      39.424568        0.0       0.0          0            0  \n",
       "1      40.082543        0.0       0.0          0            0  \n",
       "2      38.062586        0.0       0.0          0            0  \n",
       "3      40.055418        0.0       0.0          0            0  \n",
       "4      39.543410        0.0       0.0          0            0  "
      ]
     },
     "execution_count": 216,
     "metadata": {},
     "output_type": "execute_result"
    }
   ],
   "source": [
    "write_complete_dataframe_path = Path(\"__file__\").parent.joinpath(\"Manipulated_Data\", \"Merged_Data\").parent.joinpath(\"Merged_Data\", \"Merged-Data.csv\")\n",
    "df= pd.read_csv(write_complete_dataframe_path, index_col=0)\n",
    "df.head()"
   ]
  },
  {
   "cell_type": "code",
   "execution_count": 217,
   "metadata": {},
   "outputs": [],
   "source": [
    "df = df[df[\"Date\"] >= \"2019-01-01\"]\n",
    "df = df[df[\"Date\"] <= \"2022-12-31\"]"
   ]
  },
  {
   "cell_type": "code",
   "execution_count": 218,
   "metadata": {},
   "outputs": [],
   "source": [
    "#y = df[\"Carbon Price\"]\n",
    "#X = df[[\"Coal Price\", \"Oil Price\",  \"NatGas Price\" ,\"Cold Temp\", \"Hot Temp\"]]"
   ]
  },
  {
   "cell_type": "code",
   "execution_count": 219,
   "metadata": {},
   "outputs": [
    {
     "data": {
      "text/html": [
       "<div>\n",
       "<style scoped>\n",
       "    .dataframe tbody tr th:only-of-type {\n",
       "        vertical-align: middle;\n",
       "    }\n",
       "\n",
       "    .dataframe tbody tr th {\n",
       "        vertical-align: top;\n",
       "    }\n",
       "\n",
       "    .dataframe thead th {\n",
       "        text-align: right;\n",
       "    }\n",
       "</style>\n",
       "<table border=\"1\" class=\"dataframe\">\n",
       "  <thead>\n",
       "    <tr style=\"text-align: right;\">\n",
       "      <th></th>\n",
       "      <th>Carbon Price</th>\n",
       "      <th>target</th>\n",
       "    </tr>\n",
       "  </thead>\n",
       "  <tbody>\n",
       "    <tr>\n",
       "      <th>1112</th>\n",
       "      <td>23.01</td>\n",
       "      <td>22.40</td>\n",
       "    </tr>\n",
       "    <tr>\n",
       "      <th>1113</th>\n",
       "      <td>22.40</td>\n",
       "      <td>21.40</td>\n",
       "    </tr>\n",
       "    <tr>\n",
       "      <th>1114</th>\n",
       "      <td>21.40</td>\n",
       "      <td>21.95</td>\n",
       "    </tr>\n",
       "    <tr>\n",
       "      <th>1115</th>\n",
       "      <td>21.95</td>\n",
       "      <td>22.55</td>\n",
       "    </tr>\n",
       "    <tr>\n",
       "      <th>1116</th>\n",
       "      <td>22.55</td>\n",
       "      <td>22.81</td>\n",
       "    </tr>\n",
       "  </tbody>\n",
       "</table>\n",
       "</div>"
      ],
      "text/plain": [
       "      Carbon Price  target\n",
       "1112         23.01   22.40\n",
       "1113         22.40   21.40\n",
       "1114         21.40   21.95\n",
       "1115         21.95   22.55\n",
       "1116         22.55   22.81"
      ]
     },
     "execution_count": 219,
     "metadata": {},
     "output_type": "execute_result"
    }
   ],
   "source": [
    "#df[\"Returns\"] = df[\"Carbon Price\"].pct_change()\n",
    "df[\"target\"] = df[\"Carbon Price\"].shift(-1)\n",
    "df.dropna(inplace=True)\n",
    "#df2 = df[[\"Carbon Price\"]]\n",
    "df = df[[\"Carbon Price\", \"target\"]]\n",
    "\n",
    "df.head()"
   ]
  },
  {
   "cell_type": "code",
   "execution_count": 220,
   "metadata": {},
   "outputs": [],
   "source": [
    "def train_test_split(data, perc):\n",
    "    data = data.values\n",
    "    n = int(len(data)*(1-perc))\n",
    "    return data[:n], data[n:]"
   ]
  },
  {
   "cell_type": "code",
   "execution_count": 221,
   "metadata": {},
   "outputs": [],
   "source": [
    "train, test = train_test_split(df, 0.2)"
   ]
  },
  {
   "cell_type": "code",
   "execution_count": 222,
   "metadata": {},
   "outputs": [
    {
     "name": "stdout",
     "output_type": "stream",
     "text": [
      "127\n"
     ]
    }
   ],
   "source": [
    "print(len(test))"
   ]
  },
  {
   "cell_type": "code",
   "execution_count": 223,
   "metadata": {},
   "outputs": [],
   "source": [
    "X = train[:,:-1]\n",
    "y = train[:, -1]"
   ]
  },
  {
   "cell_type": "code",
   "execution_count": 224,
   "metadata": {},
   "outputs": [],
   "source": [
    "from xgboost import XGBRegressor\n"
   ]
  },
  {
   "cell_type": "code",
   "execution_count": 225,
   "metadata": {},
   "outputs": [
    {
     "data": {
      "text/html": [
       "<style>#sk-container-id-11 {color: black;background-color: white;}#sk-container-id-11 pre{padding: 0;}#sk-container-id-11 div.sk-toggleable {background-color: white;}#sk-container-id-11 label.sk-toggleable__label {cursor: pointer;display: block;width: 100%;margin-bottom: 0;padding: 0.3em;box-sizing: border-box;text-align: center;}#sk-container-id-11 label.sk-toggleable__label-arrow:before {content: \"▸\";float: left;margin-right: 0.25em;color: #696969;}#sk-container-id-11 label.sk-toggleable__label-arrow:hover:before {color: black;}#sk-container-id-11 div.sk-estimator:hover label.sk-toggleable__label-arrow:before {color: black;}#sk-container-id-11 div.sk-toggleable__content {max-height: 0;max-width: 0;overflow: hidden;text-align: left;background-color: #f0f8ff;}#sk-container-id-11 div.sk-toggleable__content pre {margin: 0.2em;color: black;border-radius: 0.25em;background-color: #f0f8ff;}#sk-container-id-11 input.sk-toggleable__control:checked~div.sk-toggleable__content {max-height: 200px;max-width: 100%;overflow: auto;}#sk-container-id-11 input.sk-toggleable__control:checked~label.sk-toggleable__label-arrow:before {content: \"▾\";}#sk-container-id-11 div.sk-estimator input.sk-toggleable__control:checked~label.sk-toggleable__label {background-color: #d4ebff;}#sk-container-id-11 div.sk-label input.sk-toggleable__control:checked~label.sk-toggleable__label {background-color: #d4ebff;}#sk-container-id-11 input.sk-hidden--visually {border: 0;clip: rect(1px 1px 1px 1px);clip: rect(1px, 1px, 1px, 1px);height: 1px;margin: -1px;overflow: hidden;padding: 0;position: absolute;width: 1px;}#sk-container-id-11 div.sk-estimator {font-family: monospace;background-color: #f0f8ff;border: 1px dotted black;border-radius: 0.25em;box-sizing: border-box;margin-bottom: 0.5em;}#sk-container-id-11 div.sk-estimator:hover {background-color: #d4ebff;}#sk-container-id-11 div.sk-parallel-item::after {content: \"\";width: 100%;border-bottom: 1px solid gray;flex-grow: 1;}#sk-container-id-11 div.sk-label:hover label.sk-toggleable__label {background-color: #d4ebff;}#sk-container-id-11 div.sk-serial::before {content: \"\";position: absolute;border-left: 1px solid gray;box-sizing: border-box;top: 0;bottom: 0;left: 50%;z-index: 0;}#sk-container-id-11 div.sk-serial {display: flex;flex-direction: column;align-items: center;background-color: white;padding-right: 0.2em;padding-left: 0.2em;position: relative;}#sk-container-id-11 div.sk-item {position: relative;z-index: 1;}#sk-container-id-11 div.sk-parallel {display: flex;align-items: stretch;justify-content: center;background-color: white;position: relative;}#sk-container-id-11 div.sk-item::before, #sk-container-id-11 div.sk-parallel-item::before {content: \"\";position: absolute;border-left: 1px solid gray;box-sizing: border-box;top: 0;bottom: 0;left: 50%;z-index: -1;}#sk-container-id-11 div.sk-parallel-item {display: flex;flex-direction: column;z-index: 1;position: relative;background-color: white;}#sk-container-id-11 div.sk-parallel-item:first-child::after {align-self: flex-end;width: 50%;}#sk-container-id-11 div.sk-parallel-item:last-child::after {align-self: flex-start;width: 50%;}#sk-container-id-11 div.sk-parallel-item:only-child::after {width: 0;}#sk-container-id-11 div.sk-dashed-wrapped {border: 1px dashed gray;margin: 0 0.4em 0.5em 0.4em;box-sizing: border-box;padding-bottom: 0.4em;background-color: white;}#sk-container-id-11 div.sk-label label {font-family: monospace;font-weight: bold;display: inline-block;line-height: 1.2em;}#sk-container-id-11 div.sk-label-container {text-align: center;}#sk-container-id-11 div.sk-container {/* jupyter's `normalize.less` sets `[hidden] { display: none; }` but bootstrap.min.css set `[hidden] { display: none !important; }` so we also need the `!important` here to be able to override the default hidden behavior on the sphinx rendered scikit-learn.org. See: https://github.com/scikit-learn/scikit-learn/issues/21755 */display: inline-block !important;position: relative;}#sk-container-id-11 div.sk-text-repr-fallback {display: none;}</style><div id=\"sk-container-id-11\" class=\"sk-top-container\"><div class=\"sk-text-repr-fallback\"><pre>XGBRegressor(base_score=None, booster=None, callbacks=None,\n",
       "             colsample_bylevel=None, colsample_bynode=None,\n",
       "             colsample_bytree=None, early_stopping_rounds=None,\n",
       "             enable_categorical=False, eval_metric=None, feature_types=None,\n",
       "             gamma=None, gpu_id=None, grow_policy=None, importance_type=None,\n",
       "             interaction_constraints=None, learning_rate=None, max_bin=None,\n",
       "             max_cat_threshold=None, max_cat_to_onehot=None,\n",
       "             max_delta_step=None, max_depth=None, max_leaves=None,\n",
       "             min_child_weight=None, missing=nan, monotone_constraints=None,\n",
       "             n_estimators=1000, n_jobs=None, num_parallel_tree=None,\n",
       "             predictor=None, random_state=None, ...)</pre><b>In a Jupyter environment, please rerun this cell to show the HTML representation or trust the notebook. <br />On GitHub, the HTML representation is unable to render, please try loading this page with nbviewer.org.</b></div><div class=\"sk-container\" hidden><div class=\"sk-item\"><div class=\"sk-estimator sk-toggleable\"><input class=\"sk-toggleable__control sk-hidden--visually\" id=\"sk-estimator-id-11\" type=\"checkbox\" checked><label for=\"sk-estimator-id-11\" class=\"sk-toggleable__label sk-toggleable__label-arrow\">XGBRegressor</label><div class=\"sk-toggleable__content\"><pre>XGBRegressor(base_score=None, booster=None, callbacks=None,\n",
       "             colsample_bylevel=None, colsample_bynode=None,\n",
       "             colsample_bytree=None, early_stopping_rounds=None,\n",
       "             enable_categorical=False, eval_metric=None, feature_types=None,\n",
       "             gamma=None, gpu_id=None, grow_policy=None, importance_type=None,\n",
       "             interaction_constraints=None, learning_rate=None, max_bin=None,\n",
       "             max_cat_threshold=None, max_cat_to_onehot=None,\n",
       "             max_delta_step=None, max_depth=None, max_leaves=None,\n",
       "             min_child_weight=None, missing=nan, monotone_constraints=None,\n",
       "             n_estimators=1000, n_jobs=None, num_parallel_tree=None,\n",
       "             predictor=None, random_state=None, ...)</pre></div></div></div></div></div>"
      ],
      "text/plain": [
       "XGBRegressor(base_score=None, booster=None, callbacks=None,\n",
       "             colsample_bylevel=None, colsample_bynode=None,\n",
       "             colsample_bytree=None, early_stopping_rounds=None,\n",
       "             enable_categorical=False, eval_metric=None, feature_types=None,\n",
       "             gamma=None, gpu_id=None, grow_policy=None, importance_type=None,\n",
       "             interaction_constraints=None, learning_rate=None, max_bin=None,\n",
       "             max_cat_threshold=None, max_cat_to_onehot=None,\n",
       "             max_delta_step=None, max_depth=None, max_leaves=None,\n",
       "             min_child_weight=None, missing=nan, monotone_constraints=None,\n",
       "             n_estimators=1000, n_jobs=None, num_parallel_tree=None,\n",
       "             predictor=None, random_state=None, ...)"
      ]
     },
     "execution_count": 225,
     "metadata": {},
     "output_type": "execute_result"
    }
   ],
   "source": [
    "model = XGBRegressor(objective=\"reg:squarederror\", n_estimators = 1000)\n",
    "model.fit(X,y)"
   ]
  },
  {
   "cell_type": "code",
   "execution_count": 226,
   "metadata": {},
   "outputs": [
    {
     "data": {
      "text/plain": [
       "array([54.17, 55.  ])"
      ]
     },
     "execution_count": 226,
     "metadata": {},
     "output_type": "execute_result"
    }
   ],
   "source": [
    "test[0]"
   ]
  },
  {
   "cell_type": "code",
   "execution_count": 227,
   "metadata": {},
   "outputs": [
    {
     "name": "stdout",
     "output_type": "stream",
     "text": [
      "55.39261\n"
     ]
    }
   ],
   "source": [
    "val = np.array(test[1,0]).reshape(1,-1)\n",
    "pred = model.predict(val)\n",
    "print(pred[0])"
   ]
  },
  {
   "cell_type": "code",
   "execution_count": 228,
   "metadata": {},
   "outputs": [],
   "source": [
    "def xgb_predict(train, val):\n",
    "    train = np.array(train)\n",
    "    X,y = train[:,:-1], train[:, -1]\n",
    "    model = XGBRegressor(objective=\"reg:squarederror\", n_estimators = 1000)\n",
    "    model.fit(X,y)\n",
    "    \n",
    "    val = np.array(val).reshape(1,-1)\n",
    "    pred = model.predict(val)\n",
    "    return pred[0]"
   ]
  },
  {
   "cell_type": "code",
   "execution_count": 229,
   "metadata": {},
   "outputs": [
    {
     "data": {
      "text/plain": [
       "55.567352"
      ]
     },
     "execution_count": 229,
     "metadata": {},
     "output_type": "execute_result"
    }
   ],
   "source": [
    "xgb_predict(train, test[0,0])"
   ]
  },
  {
   "attachments": {},
   "cell_type": "markdown",
   "metadata": {},
   "source": [
    "#### Walk-forward validation\n",
    "\n",
    "Since we are making a one step forward prediction in this case, a daily prediction, we will predict the first record in the test dataset. Afterwards, we add the\n",
    "real observation from the test set to the train set, refit the model, then predict the next step in the test dataset."
   ]
  },
  {
   "cell_type": "code",
   "execution_count": 230,
   "metadata": {},
   "outputs": [],
   "source": [
    "def validate(data, perc):\n",
    "    predictions = []\n",
    "    train, test = train_test_split(data, perc)\n",
    "    history = [x for x in train]\n",
    "\n",
    "    for i in range(len(test)):\n",
    "        test_X, test_y = test[i,:-1], test[i, -1]\n",
    "        pred = xgb_predict(history, test_X[0])\n",
    "        predictions.append(pred)\n",
    "        history.append(test[i])\n",
    "\n",
    "    error = mean_squared_error(test[:, -1], predictions, squared=False)\n",
    "    return error, test[:,-1], predictions"
   ]
  },
  {
   "cell_type": "code",
   "execution_count": 231,
   "metadata": {},
   "outputs": [],
   "source": [
    "rmse, test, pred = validate(df, 0.25)\n"
   ]
  },
  {
   "cell_type": "code",
   "execution_count": 232,
   "metadata": {},
   "outputs": [
    {
     "name": "stdout",
     "output_type": "stream",
     "text": [
      "mean_squared_error :  7.452704813044889\n",
      "mean_absolute_error :  1.9601196768898632\n",
      "root_mean_squared_error:  2.7299642512393616\n",
      "R^2:  0.9562514316354479\n",
      "Adjusted R^2:  0.9559727783337628\n"
     ]
    }
   ],
   "source": [
    "# Evaluate the performance of the model\n",
    "print('mean_squared_error : ', mean_squared_error(test, pred))\n",
    "print('mean_absolute_error : ', mean_absolute_error(test, pred))\n",
    "print(\"root_mean_squared_error: \", np.sqrt(mean_squared_error(test,pred)))\n",
    "print(\"R^2: \" ,r2_score(test, pred))\n",
    "print(\"Adjusted R^2: \" , 1 - ( 1-r2_score(test, pred) ) * ( len(pred) - 1 ) / ( len(pred) - X.shape[1] - 1 ))"
   ]
  },
  {
   "cell_type": "code",
   "execution_count": 233,
   "metadata": {},
   "outputs": [
    {
     "data": {
      "image/png": "[encoded data removed]",
      "text/plain": [
       "<Figure size 640x480 with 1 Axes>"
      ]
     },
     "metadata": {},
     "output_type": "display_data"
    }
   ],
   "source": [
    "plt.plot(test, label = 'Actual Carbon Price')\n",
    "plt.plot(pred, label ='Predicted Carbon Price', color = \"red\", linestyle = '--')\n",
    "plt.legend()\n",
    "plt.title(\"Predicted carbon price against actual carbon price\")\n",
    "plt.ylabel(\"Price\")\n",
    "plt.savefig(\"Model.png\")\n",
    "plt.show() "
   ]
  },
  {
   "cell_type": "code",
   "execution_count": 234,
   "metadata": {},
   "outputs": [
    {
     "name": "stdout",
     "output_type": "stream",
     "text": [
      "mean_squared_error :  7.452704813044889\n",
      "mean_absolute_error :  1.9601196768898632\n",
      "root_mean_squared_error:  2.7299642512393616\n",
      "R^2:  0.9562514316354479\n"
     ]
    }
   ],
   "source": [
    "# Evaluate the performance of the model\n",
    "print('mean_squared_error : ', mean_squared_error(test, pred))\n",
    "print('mean_absolute_error : ', mean_absolute_error(test, pred))\n",
    "print(\"root_mean_squared_error: \", np.sqrt(mean_squared_error(test,pred)))\n",
    "print(\"R^2: \" ,r2_score(test, pred))\n"
   ]
  },
  {
   "cell_type": "code",
   "execution_count": 235,
   "metadata": {},
   "outputs": [
    {
     "ename": "NameError",
     "evalue": "name 'y_test' is not defined",
     "output_type": "error",
     "traceback": [
      "\u001b[1;31m---------------------------------------------------------------------------\u001b[0m",
      "\u001b[1;31mNameError\u001b[0m                                 Traceback (most recent call last)",
      "Cell \u001b[1;32mIn[235], line 1\u001b[0m\n\u001b[1;32m----> 1\u001b[0m index \u001b[39m=\u001b[39m y_test\u001b[39m.\u001b[39mindex\n\u001b[0;32m      2\u001b[0m predictions \u001b[39m=\u001b[39m pd\u001b[39m.\u001b[39mDataFrame(predictions)\n\u001b[0;32m      3\u001b[0m predictions[\u001b[39m\"\u001b[39m\u001b[39mIndex\u001b[39m\u001b[39m\"\u001b[39m] \u001b[39m=\u001b[39m index\n",
      "\u001b[1;31mNameError\u001b[0m: name 'y_test' is not defined"
     ]
    }
   ],
   "source": [
    "index = y_test.index\n",
    "predictions = pd.DataFrame(predictions)\n",
    "predictions[\"Index\"] = index\n",
    "predictions.set_index(\"Index\", inplace = True)\n",
    "predictions.rename(columns={0: \"Carbon Price\"}, inplace=True)\n",
    "predictions.sort_index(inplace=True)"
   ]
  },
  {
   "cell_type": "code",
   "execution_count": null,
   "metadata": {},
   "outputs": [],
   "source": [
    "predictions"
   ]
  },
  {
   "cell_type": "code",
   "execution_count": null,
   "metadata": {},
   "outputs": [],
   "source": [
    "plt.plot(y_test, label = 'Actual Carbon Price')\n",
    "plt.plot(predictions, label ='Predicted Carbon Price')\n",
    "plt.title(\"Predicted carbon price against actual carbon price\")\n",
    "plt.ylabel(\"Price\")\n",
    "plt.legend()\n",
    "plt.savefig(\"FullModel.png\")\n",
    "plt.show() "
   ]
  }
 ],
 "metadata": {
  "kernelspec": {
   "display_name": "Python 3",
   "language": "python",
   "name": "python3"
  },
  "language_info": {
   "codemirror_mode": {
    "name": "ipython",
    "version": 3
   },
   "file_extension": ".py",
   "mimetype": "text/x-python",
   "name": "python",
   "nbconvert_exporter": "python",
   "pygments_lexer": "ipython3",
   "version": "3.10.10"
  },
  "orig_nbformat": 4,
  "vscode": {
   "interpreter": {
    "hash": "3885b44946d315f3f97ad482d32e08bac22ea7eef1705ee70d72556c86afeb42"
   }
  }
 },
 "nbformat": 4,
 "nbformat_minor": 2
}
