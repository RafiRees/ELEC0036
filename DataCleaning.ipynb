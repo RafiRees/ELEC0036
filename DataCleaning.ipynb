{
 "cells": [
  {
   "cell_type": "code",
   "execution_count": 57,
   "metadata": {},
   "outputs": [],
   "source": [
    "import pandas as pd\n",
    "import numpy as np\n",
    "import datetime as dt\n",
    "from datetime import datetime\n",
    "from pathlib import Path\n",
    "import scipy\n",
    "import matplotlib.pyplot as plt\n",
    "import matplotlib"
   ]
  },
  {
   "cell_type": "markdown",
   "metadata": {},
   "source": [
    "# Clean Carbon Data"
   ]
  },
  {
   "cell_type": "markdown",
   "metadata": {},
   "source": [
    "Data taken from https://www.eex.com/en/market-data/environmental-markets/eua-primary-auction-spot-download . Accessed on 20/10/2022."
   ]
  },
  {
   "cell_type": "markdown",
   "metadata": {},
   "source": [
    "Read the excel file containing the Carbon Price data."
   ]
  },
  {
   "cell_type": "code",
   "execution_count": 58,
   "metadata": {},
   "outputs": [],
   "source": [
    "read_carbon_path = Path(\"__file__\").parent.joinpath(\"Raw_Data\", \"Carbon_Data\").parent.joinpath(\"Carbon_Data\", \"Carbon Price Data.xlsx\")\n",
    "df = pd.read_excel(read_carbon_path, index_col=False)"
   ]
  },
  {
   "cell_type": "markdown",
   "metadata": {},
   "source": [
    "Clean the data by removing any duplicates, dropping unnecessary columns, adding in all missing dates (this will be used later) and renaming the columns to easier names to write."
   ]
  },
  {
   "cell_type": "code",
   "execution_count": 59,
   "metadata": {},
   "outputs": [
    {
     "data": {
      "text/html": [
       "<div>\n",
       "<style scoped>\n",
       "    .dataframe tbody tr th:only-of-type {\n",
       "        vertical-align: middle;\n",
       "    }\n",
       "\n",
       "    .dataframe tbody tr th {\n",
       "        vertical-align: top;\n",
       "    }\n",
       "\n",
       "    .dataframe thead th {\n",
       "        text-align: right;\n",
       "    }\n",
       "</style>\n",
       "<table border=\"1\" class=\"dataframe\">\n",
       "  <thead>\n",
       "    <tr style=\"text-align: right;\">\n",
       "      <th></th>\n",
       "      <th>Date</th>\n",
       "      <th>Carbon Price</th>\n",
       "    </tr>\n",
       "  </thead>\n",
       "  <tbody>\n",
       "    <tr>\n",
       "      <th>0</th>\n",
       "      <td>2012-01-01</td>\n",
       "      <td>NaN</td>\n",
       "    </tr>\n",
       "    <tr>\n",
       "      <th>1</th>\n",
       "      <td>2012-01-02</td>\n",
       "      <td>NaN</td>\n",
       "    </tr>\n",
       "    <tr>\n",
       "      <th>2</th>\n",
       "      <td>2012-01-03</td>\n",
       "      <td>6.31</td>\n",
       "    </tr>\n",
       "    <tr>\n",
       "      <th>3</th>\n",
       "      <td>2012-01-04</td>\n",
       "      <td>NaN</td>\n",
       "    </tr>\n",
       "    <tr>\n",
       "      <th>4</th>\n",
       "      <td>2012-01-05</td>\n",
       "      <td>NaN</td>\n",
       "    </tr>\n",
       "  </tbody>\n",
       "</table>\n",
       "</div>"
      ],
      "text/plain": [
       "        Date  Carbon Price\n",
       "0 2012-01-01           NaN\n",
       "1 2012-01-02           NaN\n",
       "2 2012-01-03          6.31\n",
       "3 2012-01-04           NaN\n",
       "4 2012-01-05           NaN"
      ]
     },
     "execution_count": 59,
     "metadata": {},
     "output_type": "execute_result"
    }
   ],
   "source": [
    "df = df.drop_duplicates(subset = \"Date\", keep = \"first\")\n",
    "df[\"Date\"] = pd.to_datetime(df['Date'])\n",
    "df = df.drop(df.columns[[2,3,4,5]], axis = 1)\n",
    "df = (df.set_index('Date').reindex(pd.date_range('2012-01-01', '2022-02-24', freq='D')).rename_axis(['Date']).reset_index())\n",
    "df.rename(columns = {'Auction Price €/tCO2':'Carbon Price'}, inplace = True)\n",
    "df.head()\n"
   ]
  },
  {
   "cell_type": "markdown",
   "metadata": {},
   "source": [
    "Save the data to the manipulated data folder"
   ]
  },
  {
   "cell_type": "code",
   "execution_count": 60,
   "metadata": {},
   "outputs": [
    {
     "data": {
      "text/plain": [
       "<function matplotlib.pyplot.show(close=None, block=None)>"
      ]
     },
     "execution_count": 60,
     "metadata": {},
     "output_type": "execute_result"
    },
    {
     "data": {
      "image/png": "[encoded data removed]",
      "text/plain": [
       "<Figure size 432x288 with 1 Axes>"
      ]
     },
     "metadata": {
      "needs_background": "light"
     },
     "output_type": "display_data"
    }
   ],
   "source": [
    "series = df[\"Carbon Price\"]\n",
    "series.plot()\n",
    "plt.show"
   ]
  },
  {
   "cell_type": "code",
   "execution_count": 61,
   "metadata": {},
   "outputs": [],
   "source": [
    "write_carbon_path = Path(\"__file__\").parent.joinpath(\"Manipulated_Data\", \"Carbon_Data\").parent.joinpath(\"Carbon_Data\", \"Daily-Carbon Prices.csv\")\n",
    "df.to_csv(write_carbon_path)"
   ]
  },
  {
   "cell_type": "markdown",
   "metadata": {},
   "source": [
    "# Clean Coal Data"
   ]
  },
  {
   "cell_type": "markdown",
   "metadata": {},
   "source": [
    "##### Data taken from https://markets.businessinsider.com/commodities/coal-price. Accessed on 24/10/2022"
   ]
  },
  {
   "cell_type": "markdown",
   "metadata": {},
   "source": [
    "Read csv file containing coal data"
   ]
  },
  {
   "cell_type": "code",
   "execution_count": 62,
   "metadata": {},
   "outputs": [],
   "source": [
    "read_coal_path = Path(\"__file__\").parent.joinpath(\"Raw_Data\", \"Coal_Data\").parent.joinpath(\"Coal_Data\", \"Coal Data.csv\")\n",
    "df = pd.read_csv(read_coal_path, index_col= False)\n",
    "#df.head()"
   ]
  },
  {
   "cell_type": "markdown",
   "metadata": {},
   "source": [
    "Clean the data by removing unwanted columns, renaming and dropping any duplicates and reordering the rows."
   ]
  },
  {
   "cell_type": "code",
   "execution_count": 63,
   "metadata": {},
   "outputs": [],
   "source": [
    "df[\"Date\"] = pd.to_datetime(df['Date'])\n",
    "#df = df.drop(df.columns[[2,3]], axis = 1)\n",
    "df = (df.set_index('Date').reindex(pd.date_range('2012-01-01', '2022-02-24', freq='D')).rename_axis(['Date']).fillna(0).reset_index())\n"
   ]
  },
  {
   "cell_type": "code",
   "execution_count": 64,
   "metadata": {},
   "outputs": [
    {
     "data": {
      "text/html": [
       "<div>\n",
       "<style scoped>\n",
       "    .dataframe tbody tr th:only-of-type {\n",
       "        vertical-align: middle;\n",
       "    }\n",
       "\n",
       "    .dataframe tbody tr th {\n",
       "        vertical-align: top;\n",
       "    }\n",
       "\n",
       "    .dataframe thead th {\n",
       "        text-align: right;\n",
       "    }\n",
       "</style>\n",
       "<table border=\"1\" class=\"dataframe\">\n",
       "  <thead>\n",
       "    <tr style=\"text-align: right;\">\n",
       "      <th></th>\n",
       "      <th>Date</th>\n",
       "      <th>Coal Price</th>\n",
       "    </tr>\n",
       "  </thead>\n",
       "  <tbody>\n",
       "    <tr>\n",
       "      <th>0</th>\n",
       "      <td>2012-01-01</td>\n",
       "      <td>0.00</td>\n",
       "    </tr>\n",
       "    <tr>\n",
       "      <th>1</th>\n",
       "      <td>2012-01-02</td>\n",
       "      <td>0.00</td>\n",
       "    </tr>\n",
       "    <tr>\n",
       "      <th>2</th>\n",
       "      <td>2012-01-03</td>\n",
       "      <td>109.35</td>\n",
       "    </tr>\n",
       "    <tr>\n",
       "      <th>3</th>\n",
       "      <td>2012-01-04</td>\n",
       "      <td>109.55</td>\n",
       "    </tr>\n",
       "    <tr>\n",
       "      <th>4</th>\n",
       "      <td>2012-01-05</td>\n",
       "      <td>110.10</td>\n",
       "    </tr>\n",
       "  </tbody>\n",
       "</table>\n",
       "</div>"
      ],
      "text/plain": [
       "        Date  Coal Price\n",
       "0 2012-01-01        0.00\n",
       "1 2012-01-02        0.00\n",
       "2 2012-01-03      109.35\n",
       "3 2012-01-04      109.55\n",
       "4 2012-01-05      110.10"
      ]
     },
     "execution_count": 64,
     "metadata": {},
     "output_type": "execute_result"
    }
   ],
   "source": [
    "df = df.sort_values(by = \"Date\", ascending = True)\n",
    "df = df.reindex(columns = [\"Date\", \"Close\"])\n",
    "df.rename(columns = {'Close':'Coal Price'}, inplace = True)\n",
    "df = df.drop_duplicates(subset = \"Date\", keep = \"first\")\n",
    "df.head()"
   ]
  },
  {
   "cell_type": "code",
   "execution_count": 65,
   "metadata": {},
   "outputs": [],
   "source": [
    "write_coal_path = Path(\"__file__\").parent.joinpath(\"Manipulated_Data\", \"Coal_Data\").parent.joinpath(\"Coal_Data\", \"Coal-Daily.csv\")\n",
    "df.to_csv(write_coal_path)"
   ]
  },
  {
   "cell_type": "markdown",
   "metadata": {},
   "source": [
    "# Clean Oil Data"
   ]
  },
  {
   "cell_type": "markdown",
   "metadata": {},
   "source": [
    "##### Data pulled from https://datahub.io/core/oil-prices#pandas"
   ]
  },
  {
   "cell_type": "markdown",
   "metadata": {},
   "source": [
    "Read csv file containing oil data"
   ]
  },
  {
   "cell_type": "code",
   "execution_count": 66,
   "metadata": {},
   "outputs": [
    {
     "data": {
      "text/html": [
       "<div>\n",
       "<style scoped>\n",
       "    .dataframe tbody tr th:only-of-type {\n",
       "        vertical-align: middle;\n",
       "    }\n",
       "\n",
       "    .dataframe tbody tr th {\n",
       "        vertical-align: top;\n",
       "    }\n",
       "\n",
       "    .dataframe thead th {\n",
       "        text-align: right;\n",
       "    }\n",
       "</style>\n",
       "<table border=\"1\" class=\"dataframe\">\n",
       "  <thead>\n",
       "    <tr style=\"text-align: right;\">\n",
       "      <th></th>\n",
       "      <th>Unnamed: 0.1</th>\n",
       "      <th>Date</th>\n",
       "      <th>Unnamed: 0</th>\n",
       "      <th>Price</th>\n",
       "    </tr>\n",
       "  </thead>\n",
       "  <tbody>\n",
       "    <tr>\n",
       "      <th>0</th>\n",
       "      <td>0</td>\n",
       "      <td>2012-01-01</td>\n",
       "      <td>0.0</td>\n",
       "      <td>0.00</td>\n",
       "    </tr>\n",
       "    <tr>\n",
       "      <th>1</th>\n",
       "      <td>1</td>\n",
       "      <td>2012-01-02</td>\n",
       "      <td>0.0</td>\n",
       "      <td>0.00</td>\n",
       "    </tr>\n",
       "    <tr>\n",
       "      <th>2</th>\n",
       "      <td>2</td>\n",
       "      <td>2012-01-03</td>\n",
       "      <td>6251.0</td>\n",
       "      <td>111.12</td>\n",
       "    </tr>\n",
       "    <tr>\n",
       "      <th>3</th>\n",
       "      <td>3</td>\n",
       "      <td>2012-01-04</td>\n",
       "      <td>6252.0</td>\n",
       "      <td>113.37</td>\n",
       "    </tr>\n",
       "    <tr>\n",
       "      <th>4</th>\n",
       "      <td>4</td>\n",
       "      <td>2012-01-05</td>\n",
       "      <td>6253.0</td>\n",
       "      <td>113.59</td>\n",
       "    </tr>\n",
       "  </tbody>\n",
       "</table>\n",
       "</div>"
      ],
      "text/plain": [
       "   Unnamed: 0.1        Date  Unnamed: 0   Price\n",
       "0             0  2012-01-01         0.0    0.00\n",
       "1             1  2012-01-02         0.0    0.00\n",
       "2             2  2012-01-03      6251.0  111.12\n",
       "3             3  2012-01-04      6252.0  113.37\n",
       "4             4  2012-01-05      6253.0  113.59"
      ]
     },
     "execution_count": 66,
     "metadata": {},
     "output_type": "execute_result"
    }
   ],
   "source": [
    "read_oil_path = Path(\"__file__\").parent.joinpath(\"Raw_Data\", \"Oil_Data\").parent.joinpath(\"Oil_Data\", \"Brent Crude Data.csv\")\n",
    "df = pd.read_csv(read_oil_path)\n",
    "df.head()"
   ]
  },
  {
   "cell_type": "markdown",
   "metadata": {},
   "source": [
    "Clean the data by removing unwanted columns, renaming and reordering the columns and dropping any duplicates."
   ]
  },
  {
   "cell_type": "code",
   "execution_count": 67,
   "metadata": {},
   "outputs": [
    {
     "data": {
      "text/html": [
       "<div>\n",
       "<style scoped>\n",
       "    .dataframe tbody tr th:only-of-type {\n",
       "        vertical-align: middle;\n",
       "    }\n",
       "\n",
       "    .dataframe tbody tr th {\n",
       "        vertical-align: top;\n",
       "    }\n",
       "\n",
       "    .dataframe thead th {\n",
       "        text-align: right;\n",
       "    }\n",
       "</style>\n",
       "<table border=\"1\" class=\"dataframe\">\n",
       "  <thead>\n",
       "    <tr style=\"text-align: right;\">\n",
       "      <th></th>\n",
       "      <th>Date</th>\n",
       "      <th>Oil Price</th>\n",
       "    </tr>\n",
       "  </thead>\n",
       "  <tbody>\n",
       "    <tr>\n",
       "      <th>0</th>\n",
       "      <td>2012-01-01</td>\n",
       "      <td>0.00</td>\n",
       "    </tr>\n",
       "    <tr>\n",
       "      <th>1</th>\n",
       "      <td>2012-01-02</td>\n",
       "      <td>0.00</td>\n",
       "    </tr>\n",
       "    <tr>\n",
       "      <th>2</th>\n",
       "      <td>2012-01-03</td>\n",
       "      <td>111.12</td>\n",
       "    </tr>\n",
       "    <tr>\n",
       "      <th>3</th>\n",
       "      <td>2012-01-04</td>\n",
       "      <td>113.37</td>\n",
       "    </tr>\n",
       "    <tr>\n",
       "      <th>4</th>\n",
       "      <td>2012-01-05</td>\n",
       "      <td>113.59</td>\n",
       "    </tr>\n",
       "  </tbody>\n",
       "</table>\n",
       "</div>"
      ],
      "text/plain": [
       "        Date  Oil Price\n",
       "0 2012-01-01       0.00\n",
       "1 2012-01-02       0.00\n",
       "2 2012-01-03     111.12\n",
       "3 2012-01-04     113.37\n",
       "4 2012-01-05     113.59"
      ]
     },
     "execution_count": 67,
     "metadata": {},
     "output_type": "execute_result"
    }
   ],
   "source": [
    "df['Date'] = pd.to_datetime(df['Date'])\n",
    "df = df[df.Date >= \"01-01-2012\"]  \n",
    "df = (df.set_index('Date').reindex(pd.date_range('2012-01-01', '2022-02-24', freq='D')).rename_axis(['Date']).fillna(0).reset_index())\n",
    "df = df.drop(df.columns[[1,2]], axis = 1)\n",
    "df = df.drop_duplicates(subset = \"Date\", keep = \"first\")\n",
    "df.rename(columns = {'Price':'Oil Price'}, inplace = True)\n",
    "df.head()\n"
   ]
  },
  {
   "cell_type": "code",
   "execution_count": 68,
   "metadata": {},
   "outputs": [],
   "source": [
    "write_oil_path = Path(\"__file__\").parent.joinpath(\"Manipulated_Data\", \"Oil_Data\").parent.joinpath(\"Oil_Data\", \"Oil-Daily.csv\")\n",
    "df.to_csv(write_oil_path)"
   ]
  },
  {
   "cell_type": "markdown",
   "metadata": {},
   "source": [
    "# Clean NatGas Data"
   ]
  },
  {
   "cell_type": "code",
   "execution_count": 69,
   "metadata": {},
   "outputs": [
    {
     "data": {
      "text/html": [
       "<div>\n",
       "<style scoped>\n",
       "    .dataframe tbody tr th:only-of-type {\n",
       "        vertical-align: middle;\n",
       "    }\n",
       "\n",
       "    .dataframe tbody tr th {\n",
       "        vertical-align: top;\n",
       "    }\n",
       "\n",
       "    .dataframe thead th {\n",
       "        text-align: right;\n",
       "    }\n",
       "</style>\n",
       "<table border=\"1\" class=\"dataframe\">\n",
       "  <thead>\n",
       "    <tr style=\"text-align: right;\">\n",
       "      <th></th>\n",
       "      <th>Symbol</th>\n",
       "      <th>Date</th>\n",
       "      <th>Open</th>\n",
       "      <th>High</th>\n",
       "      <th>Low</th>\n",
       "      <th>Close</th>\n",
       "    </tr>\n",
       "  </thead>\n",
       "  <tbody>\n",
       "    <tr>\n",
       "      <th>0</th>\n",
       "      <td>NGEU:COM</td>\n",
       "      <td>31/10/2022</td>\n",
       "      <td>137.5</td>\n",
       "      <td>137.75</td>\n",
       "      <td>120.500</td>\n",
       "      <td>123.352</td>\n",
       "    </tr>\n",
       "    <tr>\n",
       "      <th>1</th>\n",
       "      <td>NGEU:COM</td>\n",
       "      <td>28/10/2022</td>\n",
       "      <td>110.0</td>\n",
       "      <td>115.00</td>\n",
       "      <td>107.550</td>\n",
       "      <td>112.244</td>\n",
       "    </tr>\n",
       "    <tr>\n",
       "      <th>2</th>\n",
       "      <td>NGEU:COM</td>\n",
       "      <td>27/10/2022</td>\n",
       "      <td>98.0</td>\n",
       "      <td>110.00</td>\n",
       "      <td>96.135</td>\n",
       "      <td>107.384</td>\n",
       "    </tr>\n",
       "    <tr>\n",
       "      <th>3</th>\n",
       "      <td>NGEU:COM</td>\n",
       "      <td>26/10/2022</td>\n",
       "      <td>102.0</td>\n",
       "      <td>106.49</td>\n",
       "      <td>98.420</td>\n",
       "      <td>104.320</td>\n",
       "    </tr>\n",
       "    <tr>\n",
       "      <th>4</th>\n",
       "      <td>NGEU:COM</td>\n",
       "      <td>25/10/2022</td>\n",
       "      <td>95.0</td>\n",
       "      <td>102.00</td>\n",
       "      <td>92.400</td>\n",
       "      <td>99.794</td>\n",
       "    </tr>\n",
       "  </tbody>\n",
       "</table>\n",
       "</div>"
      ],
      "text/plain": [
       "     Symbol        Date   Open    High      Low    Close\n",
       "0  NGEU:COM  31/10/2022  137.5  137.75  120.500  123.352\n",
       "1  NGEU:COM  28/10/2022  110.0  115.00  107.550  112.244\n",
       "2  NGEU:COM  27/10/2022   98.0  110.00   96.135  107.384\n",
       "3  NGEU:COM  26/10/2022  102.0  106.49   98.420  104.320\n",
       "4  NGEU:COM  25/10/2022   95.0  102.00   92.400   99.794"
      ]
     },
     "execution_count": 69,
     "metadata": {},
     "output_type": "execute_result"
    }
   ],
   "source": [
    "read_gas_path = Path(\"__file__\").parent.joinpath(\"Raw_Data\", \"NatGas_Data\").parent.joinpath(\"NatGas_Data\", \"EU TTF NatGas Futures Price.csv\")\n",
    "df = pd.read_csv(read_gas_path)\n",
    "df.head()"
   ]
  },
  {
   "cell_type": "code",
   "execution_count": 70,
   "metadata": {},
   "outputs": [
    {
     "data": {
      "text/html": [
       "<div>\n",
       "<style scoped>\n",
       "    .dataframe tbody tr th:only-of-type {\n",
       "        vertical-align: middle;\n",
       "    }\n",
       "\n",
       "    .dataframe tbody tr th {\n",
       "        vertical-align: top;\n",
       "    }\n",
       "\n",
       "    .dataframe thead th {\n",
       "        text-align: right;\n",
       "    }\n",
       "</style>\n",
       "<table border=\"1\" class=\"dataframe\">\n",
       "  <thead>\n",
       "    <tr style=\"text-align: right;\">\n",
       "      <th></th>\n",
       "      <th>Date</th>\n",
       "      <th>NatGas Price</th>\n",
       "    </tr>\n",
       "  </thead>\n",
       "  <tbody>\n",
       "    <tr>\n",
       "      <th>0</th>\n",
       "      <td>2012-01-01</td>\n",
       "      <td>0.0</td>\n",
       "    </tr>\n",
       "    <tr>\n",
       "      <th>1</th>\n",
       "      <td>2012-01-02</td>\n",
       "      <td>0.0</td>\n",
       "    </tr>\n",
       "    <tr>\n",
       "      <th>2</th>\n",
       "      <td>2012-01-03</td>\n",
       "      <td>0.0</td>\n",
       "    </tr>\n",
       "    <tr>\n",
       "      <th>3</th>\n",
       "      <td>2012-01-04</td>\n",
       "      <td>0.0</td>\n",
       "    </tr>\n",
       "    <tr>\n",
       "      <th>4</th>\n",
       "      <td>2012-01-05</td>\n",
       "      <td>0.0</td>\n",
       "    </tr>\n",
       "  </tbody>\n",
       "</table>\n",
       "</div>"
      ],
      "text/plain": [
       "        Date  NatGas Price\n",
       "0 2012-01-01           0.0\n",
       "1 2012-01-02           0.0\n",
       "2 2012-01-03           0.0\n",
       "3 2012-01-04           0.0\n",
       "4 2012-01-05           0.0"
      ]
     },
     "execution_count": 70,
     "metadata": {},
     "output_type": "execute_result"
    }
   ],
   "source": [
    "df = df[[\"Date\", \"Close\"]]\n",
    "df[\"Date\"] = pd.to_datetime(df[\"Date\"], format = '%d/%m/%Y')\n",
    "df = (df.set_index('Date').reindex(pd.date_range('2012-01-01', '2022-02-24', freq='D')).rename_axis(['Date']).fillna(0).reset_index())\n",
    "df.rename(columns = {'Close':'NatGas Price'}, inplace = True)\n",
    "df.head()"
   ]
  },
  {
   "cell_type": "code",
   "execution_count": 71,
   "metadata": {},
   "outputs": [],
   "source": [
    "write_gas_path = Path(\"__file__\").parent.joinpath(\"Manipulated_Data\", \"NatGas_Data\").parent.joinpath(\"NatGas_Data\", \"NatGas-Daily.csv\")\n",
    "df.to_csv(write_gas_path)"
   ]
  },
  {
   "cell_type": "markdown",
   "metadata": {},
   "source": [
    "# Merge all the data into a single dataframe"
   ]
  },
  {
   "cell_type": "markdown",
   "metadata": {},
   "source": [
    "Read all of the data into separate dataframes."
   ]
  },
  {
   "cell_type": "code",
   "execution_count": 72,
   "metadata": {},
   "outputs": [],
   "source": [
    "read_temp_path = Path(\"__file__\").parent.joinpath(\"Manipulated_Data\", \"Weather_Data\").parent.joinpath(\"Weather_Data\", \"Temperature Index 2.csv\")\n",
    "read_elec_path = Path(\"__file__\").parent.joinpath(\"Manipulated_Data\", \"Electricity_Data\").parent.joinpath(\"Electricity_Data\", \"Electricity Index.csv\")\n",
    "df1 = pd.read_csv(write_carbon_path, index_col = False)\n",
    "df2 = pd.read_csv(write_coal_path, index_col = False)\n",
    "df3 = pd.read_csv(write_oil_path, index_col = False)\n",
    "df4 = pd.read_csv(read_temp_path, index_col = False)\n",
    "df5 = pd.read_csv(read_elec_path, index_col=False)\n",
    "df6 = pd.read_csv(write_gas_path, index_col = False)"
   ]
  },
  {
   "cell_type": "markdown",
   "metadata": {},
   "source": [
    "Merge the carbon and coal data"
   ]
  },
  {
   "cell_type": "code",
   "execution_count": 73,
   "metadata": {},
   "outputs": [],
   "source": [
    "df = pd.merge(df1, df2, how = 'outer', on = 'Date')\n",
    "df = df.drop(df.columns[[0,3]], axis = 1)"
   ]
  },
  {
   "cell_type": "markdown",
   "metadata": {},
   "source": [
    "Merge the oil data with the dataframe"
   ]
  },
  {
   "cell_type": "code",
   "execution_count": 74,
   "metadata": {},
   "outputs": [],
   "source": [
    "df = pd.merge(df, df3, how = 'outer', on = 'Date')\n",
    "df = df.drop(df.columns[[3]], axis = 1)"
   ]
  },
  {
   "cell_type": "markdown",
   "metadata": {},
   "source": [
    "Merge the NatGas data with the dataframe"
   ]
  },
  {
   "cell_type": "code",
   "execution_count": 75,
   "metadata": {},
   "outputs": [
    {
     "data": {
      "text/html": [
       "<div>\n",
       "<style scoped>\n",
       "    .dataframe tbody tr th:only-of-type {\n",
       "        vertical-align: middle;\n",
       "    }\n",
       "\n",
       "    .dataframe tbody tr th {\n",
       "        vertical-align: top;\n",
       "    }\n",
       "\n",
       "    .dataframe thead th {\n",
       "        text-align: right;\n",
       "    }\n",
       "</style>\n",
       "<table border=\"1\" class=\"dataframe\">\n",
       "  <thead>\n",
       "    <tr style=\"text-align: right;\">\n",
       "      <th></th>\n",
       "      <th>Date</th>\n",
       "      <th>Carbon Price</th>\n",
       "      <th>Coal Price</th>\n",
       "      <th>Oil Price</th>\n",
       "      <th>NatGas Price</th>\n",
       "    </tr>\n",
       "  </thead>\n",
       "  <tbody>\n",
       "    <tr>\n",
       "      <th>0</th>\n",
       "      <td>2012-01-01</td>\n",
       "      <td>NaN</td>\n",
       "      <td>0.00</td>\n",
       "      <td>0.00</td>\n",
       "      <td>0.0</td>\n",
       "    </tr>\n",
       "    <tr>\n",
       "      <th>1</th>\n",
       "      <td>2012-01-02</td>\n",
       "      <td>NaN</td>\n",
       "      <td>0.00</td>\n",
       "      <td>0.00</td>\n",
       "      <td>0.0</td>\n",
       "    </tr>\n",
       "    <tr>\n",
       "      <th>2</th>\n",
       "      <td>2012-01-03</td>\n",
       "      <td>6.31</td>\n",
       "      <td>109.35</td>\n",
       "      <td>111.12</td>\n",
       "      <td>0.0</td>\n",
       "    </tr>\n",
       "    <tr>\n",
       "      <th>3</th>\n",
       "      <td>2012-01-04</td>\n",
       "      <td>NaN</td>\n",
       "      <td>109.55</td>\n",
       "      <td>113.37</td>\n",
       "      <td>0.0</td>\n",
       "    </tr>\n",
       "    <tr>\n",
       "      <th>4</th>\n",
       "      <td>2012-01-05</td>\n",
       "      <td>NaN</td>\n",
       "      <td>110.10</td>\n",
       "      <td>113.59</td>\n",
       "      <td>0.0</td>\n",
       "    </tr>\n",
       "  </tbody>\n",
       "</table>\n",
       "</div>"
      ],
      "text/plain": [
       "         Date  Carbon Price  Coal Price  Oil Price  NatGas Price\n",
       "0  2012-01-01           NaN        0.00       0.00           0.0\n",
       "1  2012-01-02           NaN        0.00       0.00           0.0\n",
       "2  2012-01-03          6.31      109.35     111.12           0.0\n",
       "3  2012-01-04           NaN      109.55     113.37           0.0\n",
       "4  2012-01-05           NaN      110.10     113.59           0.0"
      ]
     },
     "execution_count": 75,
     "metadata": {},
     "output_type": "execute_result"
    }
   ],
   "source": [
    "df = pd.merge(df, df6, how = 'outer', on = 'Date')\n",
    "df = df.drop(df.columns[[4]], axis = 1)\n",
    "df.head()"
   ]
  },
  {
   "cell_type": "markdown",
   "metadata": {},
   "source": [
    "Merge the temperature index with the dataframe"
   ]
  },
  {
   "cell_type": "code",
   "execution_count": 76,
   "metadata": {},
   "outputs": [
    {
     "data": {
      "text/html": [
       "<div>\n",
       "<style scoped>\n",
       "    .dataframe tbody tr th:only-of-type {\n",
       "        vertical-align: middle;\n",
       "    }\n",
       "\n",
       "    .dataframe tbody tr th {\n",
       "        vertical-align: top;\n",
       "    }\n",
       "\n",
       "    .dataframe thead th {\n",
       "        text-align: right;\n",
       "    }\n",
       "</style>\n",
       "<table border=\"1\" class=\"dataframe\">\n",
       "  <thead>\n",
       "    <tr style=\"text-align: right;\">\n",
       "      <th></th>\n",
       "      <th>Date</th>\n",
       "      <th>Carbon Price</th>\n",
       "      <th>Coal Price</th>\n",
       "      <th>Oil Price</th>\n",
       "      <th>NatGas Price</th>\n",
       "      <th>Weighted Temp</th>\n",
       "      <th>Cold Temp</th>\n",
       "      <th>Hot Temp</th>\n",
       "    </tr>\n",
       "  </thead>\n",
       "  <tbody>\n",
       "    <tr>\n",
       "      <th>3703</th>\n",
       "      <td>2022-02-20</td>\n",
       "      <td>NaN</td>\n",
       "      <td>0.00</td>\n",
       "      <td>0.00</td>\n",
       "      <td>0.000</td>\n",
       "      <td>39.281313</td>\n",
       "      <td>0.0</td>\n",
       "      <td>0.0</td>\n",
       "    </tr>\n",
       "    <tr>\n",
       "      <th>3704</th>\n",
       "      <td>2022-02-21</td>\n",
       "      <td>87.99</td>\n",
       "      <td>185.15</td>\n",
       "      <td>98.95</td>\n",
       "      <td>72.564</td>\n",
       "      <td>39.476590</td>\n",
       "      <td>0.0</td>\n",
       "      <td>0.0</td>\n",
       "    </tr>\n",
       "    <tr>\n",
       "      <th>3705</th>\n",
       "      <td>2022-02-22</td>\n",
       "      <td>88.40</td>\n",
       "      <td>189.00</td>\n",
       "      <td>98.73</td>\n",
       "      <td>79.789</td>\n",
       "      <td>39.698829</td>\n",
       "      <td>0.0</td>\n",
       "      <td>0.0</td>\n",
       "    </tr>\n",
       "    <tr>\n",
       "      <th>3706</th>\n",
       "      <td>2022-02-23</td>\n",
       "      <td>92.80</td>\n",
       "      <td>190.65</td>\n",
       "      <td>99.29</td>\n",
       "      <td>88.891</td>\n",
       "      <td>42.076405</td>\n",
       "      <td>0.0</td>\n",
       "      <td>0.0</td>\n",
       "    </tr>\n",
       "    <tr>\n",
       "      <th>3707</th>\n",
       "      <td>2022-02-24</td>\n",
       "      <td>88.00</td>\n",
       "      <td>193.10</td>\n",
       "      <td>101.29</td>\n",
       "      <td>134.316</td>\n",
       "      <td>41.821095</td>\n",
       "      <td>0.0</td>\n",
       "      <td>0.0</td>\n",
       "    </tr>\n",
       "  </tbody>\n",
       "</table>\n",
       "</div>"
      ],
      "text/plain": [
       "            Date  Carbon Price  Coal Price  Oil Price  NatGas Price  \\\n",
       "3703  2022-02-20           NaN        0.00       0.00         0.000   \n",
       "3704  2022-02-21         87.99      185.15      98.95        72.564   \n",
       "3705  2022-02-22         88.40      189.00      98.73        79.789   \n",
       "3706  2022-02-23         92.80      190.65      99.29        88.891   \n",
       "3707  2022-02-24         88.00      193.10     101.29       134.316   \n",
       "\n",
       "      Weighted Temp  Cold Temp  Hot Temp  \n",
       "3703      39.281313        0.0       0.0  \n",
       "3704      39.476590        0.0       0.0  \n",
       "3705      39.698829        0.0       0.0  \n",
       "3706      42.076405        0.0       0.0  \n",
       "3707      41.821095        0.0       0.0  "
      ]
     },
     "execution_count": 76,
     "metadata": {},
     "output_type": "execute_result"
    }
   ],
   "source": [
    "df = pd.merge(df, df4, how = 'outer', on = 'Date')\n",
    "df = df.drop(df.columns[[5,7,8]], axis = 1)\n",
    "df.tail()"
   ]
  },
  {
   "cell_type": "markdown",
   "metadata": {},
   "source": [
    "Merge the Elec index with the dataframe"
   ]
  },
  {
   "cell_type": "code",
   "execution_count": 77,
   "metadata": {},
   "outputs": [
    {
     "data": {
      "text/html": [
       "<div>\n",
       "<style scoped>\n",
       "    .dataframe tbody tr th:only-of-type {\n",
       "        vertical-align: middle;\n",
       "    }\n",
       "\n",
       "    .dataframe tbody tr th {\n",
       "        vertical-align: top;\n",
       "    }\n",
       "\n",
       "    .dataframe thead th {\n",
       "        text-align: right;\n",
       "    }\n",
       "</style>\n",
       "<table border=\"1\" class=\"dataframe\">\n",
       "  <thead>\n",
       "    <tr style=\"text-align: right;\">\n",
       "      <th></th>\n",
       "      <th>Date</th>\n",
       "      <th>Carbon Price</th>\n",
       "      <th>Coal Price</th>\n",
       "      <th>Oil Price</th>\n",
       "      <th>NatGas Price</th>\n",
       "      <th>Weighted Temp</th>\n",
       "      <th>Cold Temp</th>\n",
       "      <th>Hot Temp</th>\n",
       "      <th>Elec Index</th>\n",
       "    </tr>\n",
       "  </thead>\n",
       "  <tbody>\n",
       "    <tr>\n",
       "      <th>1932</th>\n",
       "      <td>2022-02-18</td>\n",
       "      <td>87.65</td>\n",
       "      <td>184.10</td>\n",
       "      <td>96.18</td>\n",
       "      <td>73.762</td>\n",
       "      <td>37.482347</td>\n",
       "      <td>0.0</td>\n",
       "      <td>0.0</td>\n",
       "      <td>94.090106</td>\n",
       "    </tr>\n",
       "    <tr>\n",
       "      <th>1933</th>\n",
       "      <td>2022-02-21</td>\n",
       "      <td>87.99</td>\n",
       "      <td>185.15</td>\n",
       "      <td>98.95</td>\n",
       "      <td>72.564</td>\n",
       "      <td>39.476590</td>\n",
       "      <td>0.0</td>\n",
       "      <td>0.0</td>\n",
       "      <td>158.882094</td>\n",
       "    </tr>\n",
       "    <tr>\n",
       "      <th>1934</th>\n",
       "      <td>2022-02-22</td>\n",
       "      <td>88.40</td>\n",
       "      <td>189.00</td>\n",
       "      <td>98.73</td>\n",
       "      <td>79.789</td>\n",
       "      <td>39.698829</td>\n",
       "      <td>0.0</td>\n",
       "      <td>0.0</td>\n",
       "      <td>163.197727</td>\n",
       "    </tr>\n",
       "    <tr>\n",
       "      <th>1935</th>\n",
       "      <td>2022-02-23</td>\n",
       "      <td>92.80</td>\n",
       "      <td>190.65</td>\n",
       "      <td>99.29</td>\n",
       "      <td>88.891</td>\n",
       "      <td>42.076405</td>\n",
       "      <td>0.0</td>\n",
       "      <td>0.0</td>\n",
       "      <td>168.229362</td>\n",
       "    </tr>\n",
       "    <tr>\n",
       "      <th>1936</th>\n",
       "      <td>2022-02-24</td>\n",
       "      <td>88.00</td>\n",
       "      <td>193.10</td>\n",
       "      <td>101.29</td>\n",
       "      <td>134.316</td>\n",
       "      <td>41.821095</td>\n",
       "      <td>0.0</td>\n",
       "      <td>0.0</td>\n",
       "      <td>128.282990</td>\n",
       "    </tr>\n",
       "  </tbody>\n",
       "</table>\n",
       "</div>"
      ],
      "text/plain": [
       "            Date  Carbon Price  Coal Price  Oil Price  NatGas Price  \\\n",
       "1932  2022-02-18         87.65      184.10      96.18        73.762   \n",
       "1933  2022-02-21         87.99      185.15      98.95        72.564   \n",
       "1934  2022-02-22         88.40      189.00      98.73        79.789   \n",
       "1935  2022-02-23         92.80      190.65      99.29        88.891   \n",
       "1936  2022-02-24         88.00      193.10     101.29       134.316   \n",
       "\n",
       "      Weighted Temp  Cold Temp  Hot Temp  Elec Index  \n",
       "1932      37.482347        0.0       0.0   94.090106  \n",
       "1933      39.476590        0.0       0.0  158.882094  \n",
       "1934      39.698829        0.0       0.0  163.197727  \n",
       "1935      42.076405        0.0       0.0  168.229362  \n",
       "1936      41.821095        0.0       0.0  128.282990  "
      ]
     },
     "execution_count": 77,
     "metadata": {},
     "output_type": "execute_result"
    }
   ],
   "source": [
    "df = pd.merge(df, df5, how = 'outer', on = 'Date')\n",
    "df.dropna(subset = \"Carbon Price\", inplace=True)\n",
    "df= df[df[\"Carbon Price\"] != 0]\n",
    "df = df.drop(df.columns[[8]], axis = 1)\n",
    "df.reset_index(inplace=True)\n",
    "df.drop([\"index\"], axis = 1, inplace=True)\n",
    "df.tail()"
   ]
  },
  {
   "cell_type": "markdown",
   "metadata": {},
   "source": [
    "Remove all instances where the carbon price is zero and any places where he have an na value. This will ensure that all cells are filled with data points."
   ]
  },
  {
   "cell_type": "code",
   "execution_count": 78,
   "metadata": {},
   "outputs": [],
   "source": [
    "df = df[df[\"Carbon Price\"] > 0]\n",
    "df = df[df[\"Coal Price\"] != 0]\n",
    "df= df[df[\"Oil Price\"] != 0]\n",
    "df= df[df[\"NatGas Price\"] != 0]\n",
    "df.dropna(inplace= True)\n",
    "df.reset_index(inplace=True)\n",
    "df.drop([\"index\"], axis = 1, inplace=True)"
   ]
  },
  {
   "cell_type": "code",
   "execution_count": 79,
   "metadata": {},
   "outputs": [
    {
     "data": {
      "text/html": [
       "<div>\n",
       "<style scoped>\n",
       "    .dataframe tbody tr th:only-of-type {\n",
       "        vertical-align: middle;\n",
       "    }\n",
       "\n",
       "    .dataframe tbody tr th {\n",
       "        vertical-align: top;\n",
       "    }\n",
       "\n",
       "    .dataframe thead th {\n",
       "        text-align: right;\n",
       "    }\n",
       "</style>\n",
       "<table border=\"1\" class=\"dataframe\">\n",
       "  <thead>\n",
       "    <tr style=\"text-align: right;\">\n",
       "      <th></th>\n",
       "      <th>Date</th>\n",
       "      <th>Carbon Price</th>\n",
       "      <th>Coal Price</th>\n",
       "      <th>Oil Price</th>\n",
       "      <th>NatGas Price</th>\n",
       "      <th>Weighted Temp</th>\n",
       "      <th>Cold Temp</th>\n",
       "      <th>Hot Temp</th>\n",
       "      <th>Elec Index</th>\n",
       "      <th>Phase two</th>\n",
       "      <th>Phase three</th>\n",
       "    </tr>\n",
       "  </thead>\n",
       "  <tbody>\n",
       "    <tr>\n",
       "      <th>1741</th>\n",
       "      <td>2022-02-18</td>\n",
       "      <td>87.65</td>\n",
       "      <td>184.10</td>\n",
       "      <td>96.18</td>\n",
       "      <td>73.762</td>\n",
       "      <td>37.482347</td>\n",
       "      <td>0.0</td>\n",
       "      <td>0.0</td>\n",
       "      <td>94.090106</td>\n",
       "      <td>0</td>\n",
       "      <td>1</td>\n",
       "    </tr>\n",
       "    <tr>\n",
       "      <th>1742</th>\n",
       "      <td>2022-02-21</td>\n",
       "      <td>87.99</td>\n",
       "      <td>185.15</td>\n",
       "      <td>98.95</td>\n",
       "      <td>72.564</td>\n",
       "      <td>39.476590</td>\n",
       "      <td>0.0</td>\n",
       "      <td>0.0</td>\n",
       "      <td>158.882094</td>\n",
       "      <td>0</td>\n",
       "      <td>1</td>\n",
       "    </tr>\n",
       "    <tr>\n",
       "      <th>1743</th>\n",
       "      <td>2022-02-22</td>\n",
       "      <td>88.40</td>\n",
       "      <td>189.00</td>\n",
       "      <td>98.73</td>\n",
       "      <td>79.789</td>\n",
       "      <td>39.698829</td>\n",
       "      <td>0.0</td>\n",
       "      <td>0.0</td>\n",
       "      <td>163.197727</td>\n",
       "      <td>0</td>\n",
       "      <td>1</td>\n",
       "    </tr>\n",
       "    <tr>\n",
       "      <th>1744</th>\n",
       "      <td>2022-02-23</td>\n",
       "      <td>92.80</td>\n",
       "      <td>190.65</td>\n",
       "      <td>99.29</td>\n",
       "      <td>88.891</td>\n",
       "      <td>42.076405</td>\n",
       "      <td>0.0</td>\n",
       "      <td>0.0</td>\n",
       "      <td>168.229362</td>\n",
       "      <td>0</td>\n",
       "      <td>1</td>\n",
       "    </tr>\n",
       "    <tr>\n",
       "      <th>1745</th>\n",
       "      <td>2022-02-24</td>\n",
       "      <td>88.00</td>\n",
       "      <td>193.10</td>\n",
       "      <td>101.29</td>\n",
       "      <td>134.316</td>\n",
       "      <td>41.821095</td>\n",
       "      <td>0.0</td>\n",
       "      <td>0.0</td>\n",
       "      <td>128.282990</td>\n",
       "      <td>0</td>\n",
       "      <td>1</td>\n",
       "    </tr>\n",
       "  </tbody>\n",
       "</table>\n",
       "</div>"
      ],
      "text/plain": [
       "            Date  Carbon Price  Coal Price  Oil Price  NatGas Price  \\\n",
       "1741  2022-02-18         87.65      184.10      96.18        73.762   \n",
       "1742  2022-02-21         87.99      185.15      98.95        72.564   \n",
       "1743  2022-02-22         88.40      189.00      98.73        79.789   \n",
       "1744  2022-02-23         92.80      190.65      99.29        88.891   \n",
       "1745  2022-02-24         88.00      193.10     101.29       134.316   \n",
       "\n",
       "      Weighted Temp  Cold Temp  Hot Temp  Elec Index  Phase two  Phase three  \n",
       "1741      37.482347        0.0       0.0   94.090106          0            1  \n",
       "1742      39.476590        0.0       0.0  158.882094          0            1  \n",
       "1743      39.698829        0.0       0.0  163.197727          0            1  \n",
       "1744      42.076405        0.0       0.0  168.229362          0            1  \n",
       "1745      41.821095        0.0       0.0  128.282990          0            1  "
      ]
     },
     "execution_count": 79,
     "metadata": {},
     "output_type": "execute_result"
    }
   ],
   "source": [
    "dates = df[\"Date\"].to_list()\n",
    "phasetwo = []\n",
    "for i in range(len(dates)):\n",
    "    if pd.to_datetime(dates[i]).year >= 2018 and pd.to_datetime(dates[i]).year < 2020:\n",
    "        phasetwo.append(1)\n",
    "    else:\n",
    "        phasetwo.append(0)\n",
    "df[\"Phase two\"] = phasetwo\n",
    "\n",
    "phasethree = []\n",
    "for i in range(len(dates)):\n",
    "    if pd.to_datetime(dates[i]).year >= 2020:\n",
    "        phasethree.append(1)\n",
    "    else:\n",
    "        phasethree.append(0)\n",
    "df[\"Phase three\"] = phasethree\n",
    "\n",
    "df.tail()"
   ]
  },
  {
   "cell_type": "markdown",
   "metadata": {},
   "source": [
    "Set the data to only include after a certain date"
   ]
  },
  {
   "cell_type": "code",
   "execution_count": 80,
   "metadata": {},
   "outputs": [
    {
     "data": {
      "text/html": [
       "<div>\n",
       "<style scoped>\n",
       "    .dataframe tbody tr th:only-of-type {\n",
       "        vertical-align: middle;\n",
       "    }\n",
       "\n",
       "    .dataframe tbody tr th {\n",
       "        vertical-align: top;\n",
       "    }\n",
       "\n",
       "    .dataframe thead th {\n",
       "        text-align: right;\n",
       "    }\n",
       "</style>\n",
       "<table border=\"1\" class=\"dataframe\">\n",
       "  <thead>\n",
       "    <tr style=\"text-align: right;\">\n",
       "      <th></th>\n",
       "      <th>Date</th>\n",
       "      <th>Carbon Price</th>\n",
       "      <th>Coal Price</th>\n",
       "      <th>Oil Price</th>\n",
       "      <th>NatGas Price</th>\n",
       "      <th>Weighted Temp</th>\n",
       "      <th>Cold Temp</th>\n",
       "      <th>Hot Temp</th>\n",
       "      <th>Elec Index</th>\n",
       "      <th>Phase two</th>\n",
       "      <th>Phase three</th>\n",
       "    </tr>\n",
       "  </thead>\n",
       "  <tbody>\n",
       "    <tr>\n",
       "      <th>1741</th>\n",
       "      <td>2022-02-18</td>\n",
       "      <td>87.65</td>\n",
       "      <td>184.10</td>\n",
       "      <td>96.18</td>\n",
       "      <td>73.762</td>\n",
       "      <td>37.482347</td>\n",
       "      <td>0.0</td>\n",
       "      <td>0.0</td>\n",
       "      <td>94.090106</td>\n",
       "      <td>0</td>\n",
       "      <td>1</td>\n",
       "    </tr>\n",
       "    <tr>\n",
       "      <th>1742</th>\n",
       "      <td>2022-02-21</td>\n",
       "      <td>87.99</td>\n",
       "      <td>185.15</td>\n",
       "      <td>98.95</td>\n",
       "      <td>72.564</td>\n",
       "      <td>39.476590</td>\n",
       "      <td>0.0</td>\n",
       "      <td>0.0</td>\n",
       "      <td>158.882094</td>\n",
       "      <td>0</td>\n",
       "      <td>1</td>\n",
       "    </tr>\n",
       "    <tr>\n",
       "      <th>1743</th>\n",
       "      <td>2022-02-22</td>\n",
       "      <td>88.40</td>\n",
       "      <td>189.00</td>\n",
       "      <td>98.73</td>\n",
       "      <td>79.789</td>\n",
       "      <td>39.698829</td>\n",
       "      <td>0.0</td>\n",
       "      <td>0.0</td>\n",
       "      <td>163.197727</td>\n",
       "      <td>0</td>\n",
       "      <td>1</td>\n",
       "    </tr>\n",
       "    <tr>\n",
       "      <th>1744</th>\n",
       "      <td>2022-02-23</td>\n",
       "      <td>92.80</td>\n",
       "      <td>190.65</td>\n",
       "      <td>99.29</td>\n",
       "      <td>88.891</td>\n",
       "      <td>42.076405</td>\n",
       "      <td>0.0</td>\n",
       "      <td>0.0</td>\n",
       "      <td>168.229362</td>\n",
       "      <td>0</td>\n",
       "      <td>1</td>\n",
       "    </tr>\n",
       "    <tr>\n",
       "      <th>1745</th>\n",
       "      <td>2022-02-24</td>\n",
       "      <td>88.00</td>\n",
       "      <td>193.10</td>\n",
       "      <td>101.29</td>\n",
       "      <td>134.316</td>\n",
       "      <td>41.821095</td>\n",
       "      <td>0.0</td>\n",
       "      <td>0.0</td>\n",
       "      <td>128.282990</td>\n",
       "      <td>0</td>\n",
       "      <td>1</td>\n",
       "    </tr>\n",
       "  </tbody>\n",
       "</table>\n",
       "</div>"
      ],
      "text/plain": [
       "            Date  Carbon Price  Coal Price  Oil Price  NatGas Price  \\\n",
       "1741  2022-02-18         87.65      184.10      96.18        73.762   \n",
       "1742  2022-02-21         87.99      185.15      98.95        72.564   \n",
       "1743  2022-02-22         88.40      189.00      98.73        79.789   \n",
       "1744  2022-02-23         92.80      190.65      99.29        88.891   \n",
       "1745  2022-02-24         88.00      193.10     101.29       134.316   \n",
       "\n",
       "      Weighted Temp  Cold Temp  Hot Temp  Elec Index  Phase two  Phase three  \n",
       "1741      37.482347        0.0       0.0   94.090106          0            1  \n",
       "1742      39.476590        0.0       0.0  158.882094          0            1  \n",
       "1743      39.698829        0.0       0.0  163.197727          0            1  \n",
       "1744      42.076405        0.0       0.0  168.229362          0            1  \n",
       "1745      41.821095        0.0       0.0  128.282990          0            1  "
      ]
     },
     "execution_count": 80,
     "metadata": {},
     "output_type": "execute_result"
    }
   ],
   "source": [
    "#df = df[df.Date >= \"2018-01-01\"]\n",
    "df.tail()"
   ]
  },
  {
   "cell_type": "code",
   "execution_count": 81,
   "metadata": {},
   "outputs": [],
   "source": [
    "df[\"Clean Spark Spread\"] =  df[\"Elec Index\"] - (df[\"NatGas Price\"] * (1/0.49) + df[\"Carbon Price\"] * 0.41 )\n",
    "df[\"Clean Dark Spread\"] = df[\"Elec Index\"] - (df[\"Coal Price\"] * (1/0.35 )+ df[\"Carbon Price\"] * 0.95 )"
   ]
  },
  {
   "cell_type": "code",
   "execution_count": 82,
   "metadata": {},
   "outputs": [
    {
     "data": {
      "image/png": "[encoded data removed]",
      "text/plain": [
       "<Figure size 432x288 with 1 Axes>"
      ]
     },
     "metadata": {
      "needs_background": "light"
     },
     "output_type": "display_data"
    }
   ],
   "source": [
    "date = []\n",
    "for i in range(len(dates)):\n",
    "    date.append(matplotlib.dates.date2num(datetime.strptime(dates[i], '%Y-%m-%d')))\n",
    "series = df[\"Clean Spark Spread\"]\n",
    "series2 = df[\"Clean Dark Spread\"]\n",
    "ax = plt.gca()\n",
    "\n",
    "ax.xaxis.set_major_locator(matplotlib.dates.YearLocator())\n",
    "ax.xaxis.set_major_formatter(matplotlib.dates.DateFormatter('%Y'))\n",
    "\n",
    "\n",
    "plt.plot(date, series, linewidth=0.5)\n",
    "plt.plot(date, series2, linewidth=0.5)\n",
    "plt.show()   "
   ]
  },
  {
   "cell_type": "markdown",
   "metadata": {},
   "source": [
    "Export final dataframe to csv."
   ]
  },
  {
   "cell_type": "code",
   "execution_count": 83,
   "metadata": {},
   "outputs": [],
   "source": [
    "write_complete_dataframe_path = Path(\"__file__\").parent.joinpath(\"Manipulated_Data\", \"Merged_Data\").parent.joinpath(\"Merged_Data\", \"Merged-Data.csv\")\n",
    "df.to_csv(write_complete_dataframe_path)"
   ]
  }
 ],
 "metadata": {
  "kernelspec": {
   "display_name": "Python 3.10.1 64-bit",
   "language": "python",
   "name": "python3"
  },
  "language_info": {
   "codemirror_mode": {
    "name": "ipython",
    "version": 3
   },
   "file_extension": ".py",
   "mimetype": "text/x-python",
   "name": "python",
   "nbconvert_exporter": "python",
   "pygments_lexer": "ipython3",
   "version": "3.10.1"
  },
  "orig_nbformat": 4,
  "vscode": {
   "interpreter": {
    "hash": "34582ebd168d976873e3d366c8afcfe3b8d31dc7b36d4bbc5af5e4870d349471"
   }
  }
 },
 "nbformat": 4,
 "nbformat_minor": 2
}
